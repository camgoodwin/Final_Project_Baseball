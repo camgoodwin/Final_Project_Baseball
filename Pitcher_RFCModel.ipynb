{
 "cells": [
  {
   "cell_type": "code",
   "execution_count": null,
   "id": "alternative-defense",
   "metadata": {},
   "outputs": [],
   "source": [
    "# Import our dependencies\n",
    "from sklearn.model_selection import train_test_split\n",
    "from sklearn.preprocessing import StandardScaler\n",
    "from sklearn.ensemble import RandomForestClassifier\n",
    "from sklearn.metrics import confusion_matrix, accuracy_score, classification_report\n",
    "import pandas as pd\n",
    "from pathlib import Path"
   ]
  },
  {
   "cell_type": "code",
   "execution_count": null,
   "id": "ambient-demand",
   "metadata": {},
   "outputs": [],
   "source": [
    "# Import CSV\n",
    "file_path = Path('./Resources/hall_pitcher.csv')\n",
    "hall_pitcher_df = pd.read_csv(file_path)\n",
    "hall_pitcher_df"
   ]
  },
  {
   "cell_type": "code",
   "execution_count": null,
   "id": "palestinian-purpose",
   "metadata": {},
   "outputs": [],
   "source": [
    "# RFC model data preprocessing\n",
    "# Convert inducted column to Y = 1, N = 0\n",
    "\n",
    "b = {'Y': 1, 'N': 0}\n",
    "hall_pitcher_df['inducted'] = hall_pitcher_df['inducted'].map(b).fillna(hall_pitcher_df['inducted'])\n",
    "hall_pitcher_df"
   ]
  },
  {
   "cell_type": "code",
   "execution_count": null,
   "id": "reasonable-narrative",
   "metadata": {},
   "outputs": [],
   "source": [
    "# Set target and features variables\n",
    "y = hall_pitcher_df.inducted\n",
    "X = hall_pitcher_df.drop(columns=[\"playerID\", \"inducted\"])\n",
    "\n",
    "# Split training/test datasets\n",
    "X_train, X_test, y_train, y_test = train_test_split(X, y, random_state = 42, stratify = y)\n",
    "\n",
    "#Scale the data\n",
    "#Create a StandardScaler instance\n",
    "scaler = StandardScaler()\n",
    "\n",
    "# Fit the StandardScaler\n",
    "X_scaler = scaler.fit(X_train)\n",
    "\n",
    "# Scale data\n",
    "X_train_scaled = X_scaler.transform(X_train)\n",
    "X_test_scaled = X_scaler.transform(X_test)"
   ]
  },
  {
   "cell_type": "code",
   "execution_count": null,
   "id": "unlike-prime",
   "metadata": {},
   "outputs": [],
   "source": [
    "# Create a RFC model\n",
    "rf_model = RandomForestClassifier(n_estimators=128, random_state = 42)\n",
    "\n",
    "# Fit the model\n",
    "rf_model = rf_model.fit(X_train_scaled, y_train)\n",
    "\n",
    "# Make predictions using the testing data\n",
    "predictions = rf_model.predict(X_test_scaled)\n",
    "\n",
    "predictions"
   ]
  },
  {
   "cell_type": "code",
   "execution_count": null,
   "id": "biblical-mileage",
   "metadata": {},
   "outputs": [],
   "source": [
    "# Evaluate the model\n",
    "# Calculating the confusion matrix\n",
    "cm = confusion_matrix(y_test, predictions)\n",
    "\n",
    "# Create a DataFrame from the confusion matrix.\n",
    "cm_df = pd.DataFrame(cm, index= [\"Actual 0\", \"Actual 1\"], columns = [\"Predicted 0\", \"Predicted 1\"])\n",
    "\n",
    "# Calculate the accuracy score\n",
    "acc_score = accuracy_score(y_test, predictions)\n",
    "\n",
    "# Display results\n",
    "print(\"Confustion Matrix\")\n",
    "display(cm_df)\n",
    "print(f\"Accuracy Score : {acc_score}\")\n",
    "print(\"Classification Report\")\n",
    "print(classification_report(y_test, predictions))"
   ]
  },
  {
   "cell_type": "code",
   "execution_count": null,
   "id": "lucky-injection",
   "metadata": {},
   "outputs": [],
   "source": [
    "# Calculate feature importance in the RFC model\n",
    "importances = rf_model.feature_importances_\n",
    "importances"
   ]
  },
  {
   "cell_type": "code",
   "execution_count": null,
   "id": "present-letter",
   "metadata": {},
   "outputs": [],
   "source": [
    "# Sort the features by their importance\n",
    "sorted(zip(rf_model.feature_importances_, X.columns), reverse=True)"
   ]
  }
 ],
 "metadata": {
  "kernelspec": {
   "display_name": "PythonData",
   "language": "python",
   "name": "pythondata"
  },
  "language_info": {
   "codemirror_mode": {
    "name": "ipython",
    "version": 3
   },
   "file_extension": ".py",
   "mimetype": "text/x-python",
   "name": "python",
   "nbconvert_exporter": "python",
   "pygments_lexer": "ipython3",
   "version": "3.8.3"
  }
 },
 "nbformat": 4,
 "nbformat_minor": 5
}
